{
 "cells": [
  {
   "cell_type": "markdown",
   "id": "e6c260cd",
   "metadata": {},
   "source": [
    "# NumPy for Data Science - Complete Tutorial\n",
    "This tutorial covers everything you need to know about NumPy, from the basics to advanced topics, including real-world applications."
   ]
  },
  {
   "cell_type": "markdown",
   "id": "ef3d5ee6",
   "metadata": {},
   "source": [
    "## Table of Contents\n",
    "1. [Introduction to NumPy](#1)\n",
    "2. [Installing NumPy](#2)\n",
    "3. [Creating Arrays](#3)\n",
    "4. [Indexing & Slicing](#4)\n",
    "5. [Array Manipulation](#5)\n",
    "6. [Mathematical & Statistical Operations](#6)\n",
    "7. [Broadcasting](#7)\n",
    "8. [Random Number Generation](#8)\n",
    "9. [Linear Algebra](#9)\n",
    "10. [Working with Real Datasets](#10)"
   ]
  },
  {
   "cell_type": "markdown",
   "id": "eacf25ee",
   "metadata": {},
   "source": [
    "## 1.📌 Introduction to NumPy (Numerical Python) <a id='1'></a>\n",
    "NumPy is a powerful library for numerical computing. It is the foundation of libraries such as Pandas, SciPy, TensorFlow, and Scikit-Learn.\n",
    "\n",
    "**Why use NumPy?**\n",
    "- Faster than Python lists\n",
    "- Supports vectorized operations\n",
    "- Used in machine learning and deep learning"
   ]
  },
  {
   "cell_type": "markdown",
   "id": "03fd305d",
   "metadata": {},
   "source": [
    "## 2.📌 Installing NumPy <a id='2'></a>\n",
    "To install NumPy, run:\n",
    "```bash\n",
    "pip install numpy\n",
    "```"
   ]
  },
  {
   "cell_type": "code",
   "execution_count": 7,
   "id": "47b32d4c",
   "metadata": {},
   "outputs": [
    {
     "name": "stdout",
     "output_type": "stream",
     "text": [
      "1.24.3\n"
     ]
    }
   ],
   "source": [
    "import numpy as np\n",
    "print(np.__version__)  # Check installed version"
   ]
  },
  {
   "cell_type": "markdown",
   "id": "0be84f46",
   "metadata": {},
   "source": [
    "##  3. 📌 Creating NumPy Arrays <a id='3'></a>"
   ]
  },
  {
   "cell_type": "code",
   "execution_count": 2,
   "id": "183493c7",
   "metadata": {},
   "outputs": [
    {
     "name": "stdout",
     "output_type": "stream",
     "text": [
      "[1 2 3 4 5] (5,)\n",
      "[[1 2 3]\n",
      " [4 5 6]] (2, 3)\n",
      "[[[1 2]\n",
      "  [3 4]]\n",
      "\n",
      " [[5 6]\n",
      "  [7 8]]] (2, 2, 2)\n"
     ]
    }
   ],
   "source": [
    "# 1D Array\n",
    "arr1 = np.array([1, 2, 3, 4, 5])\n",
    "print(arr1, arr1.shape)\n",
    "\n",
    "# 2D Array\n",
    "arr2 = np.array([[1, 2, 3], [4, 5, 6]])\n",
    "print(arr2, arr2.shape)\n",
    "\n",
    "# 3D Array\n",
    "arr3 = np.array([[[1, 2], [3, 4]], [[5, 6], [7, 8]]])\n",
    "print(arr3, arr3.shape)"
   ]
  },
  {
   "cell_type": "markdown",
   "id": "5b96b457",
   "metadata": {},
   "source": [
    "# 4. 📌 Special Arrays"
   ]
  },
  {
   "cell_type": "code",
   "execution_count": 6,
   "id": "b762baec",
   "metadata": {},
   "outputs": [
    {
     "name": "stdout",
     "output_type": "stream",
     "text": [
      "[[0. 0. 0.]\n",
      " [0. 0. 0.]\n",
      " [0. 0. 0.]]\n",
      "[[1. 1. 1. 1.]\n",
      " [1. 1. 1. 1.]]\n",
      "[[1. 0. 0. 0.]\n",
      " [0. 1. 0. 0.]\n",
      " [0. 0. 1. 0.]\n",
      " [0. 0. 0. 1.]]\n",
      "[1 3 5 7 9]\n",
      "[0.   0.25 0.5  0.75 1.  ]\n"
     ]
    }
   ],
   "source": [
    "\n",
    "print(np.zeros((3, 3)))  # 3x3 matrix of zeros\n",
    "print(np.ones((2, 4)))   # 2x4 matrix of ones\n",
    "print(np.eye(4))         # 4x4 identity matrix\n",
    "print(np.full((2, 3), 7))  # Matrix filled with a number\n",
    "print(np.arange(1, 10, 2))  # [1 3 5 7 9] (start, stop, step)\n",
    "print(np.linspace(0, 1, 5))  # 5 numbers between 0 and 1\n"
   ]
  },
  {
   "cell_type": "markdown",
   "id": "defaf366",
   "metadata": {},
   "source": [
    "##  5.📌 Array Indexing & Slicing <a id='4'></a>"
   ]
  },
  {
   "cell_type": "markdown",
   "id": "8a3de2e3",
   "metadata": {},
   "source": [
    "1️⃣ indexing"
   ]
  },
  {
   "cell_type": "code",
   "execution_count": 21,
   "id": "9376b8c2",
   "metadata": {},
   "outputs": [
    {
     "name": "stdout",
     "output_type": "stream",
     "text": [
      "10\n",
      "50\n"
     ]
    }
   ],
   "source": [
    "arr = np.array([10, 20, 30, 40, 50])\n",
    "print(arr[0])  # First element\n",
    "print(arr[-1]) # Last element\n"
   ]
  },
  {
   "cell_type": "markdown",
   "id": "b7b0d1e1",
   "metadata": {},
   "source": [
    "2️⃣ slicing"
   ]
  },
  {
   "cell_type": "code",
   "execution_count": 23,
   "id": "553521d6",
   "metadata": {},
   "outputs": [
    {
     "name": "stdout",
     "output_type": "stream",
     "text": [
      "[20 30 40]\n",
      "[10 20 30]\n",
      "[30 40 50]\n"
     ]
    }
   ],
   "source": [
    "print(arr[1:4])  # Elements from index 1 to 3\n",
    "print(arr[:3])   # First 3 elements\n",
    "print(arr[-3:])  # Last 3 elements\n"
   ]
  },
  {
   "cell_type": "markdown",
   "id": "5aee6ac8",
   "metadata": {},
   "source": [
    "## 6. 📌 Array Manipulation <a id='5'></a>"
   ]
  },
  {
   "cell_type": "markdown",
   "id": "779f6ba8",
   "metadata": {},
   "source": [
    "1️⃣ Reshaping "
   ]
  },
  {
   "cell_type": "code",
   "execution_count": 18,
   "id": "122689c2",
   "metadata": {},
   "outputs": [
    {
     "name": "stdout",
     "output_type": "stream",
     "text": [
      "[[1 2 3]\n",
      " [4 5 6]\n",
      " [7 8 9]]\n"
     ]
    }
   ],
   "source": [
    "arr = np.arange(1, 10)\n",
    "arr2D = arr.reshape(3, 3)\n",
    "print(arr2D)\n"
   ]
  },
  {
   "cell_type": "markdown",
   "id": "4023bcbf",
   "metadata": {},
   "source": [
    "2️⃣ Stacking"
   ]
  },
  {
   "cell_type": "code",
   "execution_count": 19,
   "id": "7f796e79",
   "metadata": {},
   "outputs": [
    {
     "name": "stdout",
     "output_type": "stream",
     "text": [
      "[[1 2]\n",
      " [3 4]\n",
      " [5 6]]\n",
      "[[1 2 5]\n",
      " [3 4 6]]\n"
     ]
    }
   ],
   "source": [
    "a = np.array([[1, 2], [3, 4]])\n",
    "b = np.array([[5, 6]])\n",
    "print(np.vstack((a, b)))  # Vertical stack\n",
    "print(np.hstack((a, b.T)))  # Horizontal stack\n"
   ]
  },
  {
   "cell_type": "markdown",
   "id": "55ba41ff",
   "metadata": {},
   "source": [
    "3️⃣ Splitting Arrays"
   ]
  },
  {
   "cell_type": "code",
   "execution_count": 20,
   "id": "60e26411",
   "metadata": {},
   "outputs": [
    {
     "name": "stdout",
     "output_type": "stream",
     "text": [
      "[array([0, 1, 2, 3, 4]), array([5, 6, 7, 8, 9])]\n"
     ]
    }
   ],
   "source": [
    "arr = np.arange(10)\n",
    "print(np.split(arr, 2))  # Splits into 2 equal parts\n"
   ]
  },
  {
   "cell_type": "markdown",
   "id": "dfd2ad8a",
   "metadata": {},
   "source": [
    "## 📌 7. Mathematical & Statistical Operations"
   ]
  },
  {
   "cell_type": "markdown",
   "id": "37d13d16",
   "metadata": {},
   "source": [
    "1️⃣  Aggregate Functions"
   ]
  },
  {
   "cell_type": "code",
   "execution_count": 17,
   "id": "e4ed6c9a",
   "metadata": {},
   "outputs": [
    {
     "name": "stdout",
     "output_type": "stream",
     "text": [
      "100\n",
      "25.0\n",
      "11.180339887498949\n",
      "10\n",
      "40\n"
     ]
    }
   ],
   "source": [
    "arr = np.array([10, 20, 30, 40])\n",
    "\n",
    "print(arr.sum())       # Sum of elements\n",
    "print(arr.mean())      # Mean\n",
    "print(arr.std())       # Standard deviation\n",
    "print(arr.min())       # Minimum\n",
    "print(arr.max())       # Maximum\n"
   ]
  },
  {
   "cell_type": "markdown",
   "id": "16700ef7",
   "metadata": {},
   "source": [
    "2️⃣  Basic Operations"
   ]
  },
  {
   "cell_type": "code",
   "execution_count": 16,
   "id": "dbcca996",
   "metadata": {
    "scrolled": false
   },
   "outputs": [
    {
     "name": "stdout",
     "output_type": "stream",
     "text": [
      "100\n",
      "25.0\n",
      "11.180339887498949\n",
      "10\n",
      "40\n"
     ]
    }
   ],
   "source": [
    "a = np.array([1, 2, 3])\n",
    "b = np.array([4, 5, 6])\n",
    "\n",
    "print(a + b)   # Addition\n",
    "print(a - b)   # Subtraction\n",
    "print(a * b)   # Multiplication\n",
    "print(a / b)   # Division\n",
    "print(a ** 2)  # Squaring elements"
   ]
  },
  {
   "cell_type": "markdown",
   "id": "9410c1b2",
   "metadata": {},
   "source": [
    "## 📌 8. Broadcasting <a id='7'></a>"
   ]
  },
  {
   "cell_type": "code",
   "execution_count": 14,
   "id": "16aa1a76",
   "metadata": {},
   "outputs": [
    {
     "name": "stdout",
     "output_type": "stream",
     "text": [
      "[[11 12 13]\n",
      " [14 15 16]]\n"
     ]
    }
   ],
   "source": [
    "arr = np.array([[1, 2, 3], [4, 5, 6]])\n",
    "print(arr + 10)  # Adds 10 to each element\n"
   ]
  },
  {
   "cell_type": "markdown",
   "id": "8ea34eee",
   "metadata": {},
   "source": [
    "## 📌 9. Random Number Generation <a id='8'></a>"
   ]
  },
  {
   "cell_type": "code",
   "execution_count": 15,
   "id": "c7f1d7ff",
   "metadata": {},
   "outputs": [
    {
     "name": "stdout",
     "output_type": "stream",
     "text": [
      "[[0.55870502 0.46811052 0.8623984 ]\n",
      " [0.94622838 0.86989305 0.68385785]\n",
      " [0.38562569 0.83085789 0.54622024]]\n",
      "[[-1.79071764  1.00690348 -1.43515554]\n",
      " [-0.4003504   0.46296999 -0.30646632]\n",
      " [ 0.32210733  1.19374953  0.82167838]]\n",
      "[[66 98 13]\n",
      " [52 21 21]\n",
      " [78 83 52]]\n",
      "[[ 0.15798652  0.34017785  0.49597355]\n",
      " [ 0.66387971  0.788463    1.34088198]\n",
      " [ 0.22893614  0.35061486 -1.55156888]]\n"
     ]
    }
   ],
   "source": [
    "print(np.random.rand(3, 3))  # Random numbers between 0-1\n",
    "print(np.random.randn(3, 3))  # Random numbers between -1 and 1\n",
    "\n",
    "print(np.random.randint(1, 100, (3, 3)))  # Random integers\n",
    "print(np.random.normal(0, 1, (3, 3)))  # Normal distribution\n"
   ]
  },
  {
   "cell_type": "markdown",
   "id": "07bedcfd",
   "metadata": {},
   "source": [
    "## 📌 10. Linear Algebra With NumPy<a id='9'></a>"
   ]
  },
  {
   "cell_type": "markdown",
   "id": "8d229c9a",
   "metadata": {},
   "source": [
    "1️⃣ Matrix Multiplication"
   ]
  },
  {
   "cell_type": "code",
   "execution_count": 24,
   "id": "199d89a2",
   "metadata": {},
   "outputs": [
    {
     "name": "stdout",
     "output_type": "stream",
     "text": [
      "[[19 22]\n",
      " [43 50]]\n"
     ]
    }
   ],
   "source": [
    "A = np.array([[1, 2], [3, 4]])\n",
    "B = np.array([[5, 6], [7, 8]])\n",
    "\n",
    "print(np.dot(A, B))  # Matrix multiplication\n"
   ]
  },
  {
   "cell_type": "markdown",
   "id": "ca116532",
   "metadata": {},
   "source": [
    "2️⃣ Transpose & Inverse"
   ]
  },
  {
   "cell_type": "code",
   "execution_count": 26,
   "id": "b93717f5",
   "metadata": {
    "scrolled": true
   },
   "outputs": [
    {
     "name": "stdout",
     "output_type": "stream",
     "text": [
      "[[1 3]\n",
      " [2 4]]\n",
      "[[-2.   1. ]\n",
      " [ 1.5 -0.5]]\n"
     ]
    }
   ],
   "source": [
    "A = np.array([[1, 2], [3, 4]])\n",
    "B = np.array([[5, 6], [7, 8]])\n",
    "\n",
    "print(A.T)  # Transpose\n",
    "print(np.linalg.inv(A))  # Inverse\n"
   ]
  },
  {
   "cell_type": "markdown",
   "id": "aae162ae",
   "metadata": {},
   "source": [
    "3️⃣ Determinant & Eigenvalues"
   ]
  },
  {
   "cell_type": "code",
   "execution_count": 27,
   "id": "a0441fdf",
   "metadata": {},
   "outputs": [
    {
     "name": "stdout",
     "output_type": "stream",
     "text": [
      "-2.0000000000000004\n",
      "[-0.37228132  5.37228132]\n",
      "[[-0.82456484 -0.41597356]\n",
      " [ 0.56576746 -0.90937671]]\n"
     ]
    }
   ],
   "source": [
    "print(np.linalg.det(A))  # Determinant\n",
    "eigvals, eigvecs = np.linalg.eig(A)\n",
    "print(eigvals)  # Eigenvalues\n",
    "print(eigvecs)  # Eigenvectors\n"
   ]
  },
  {
   "cell_type": "markdown",
   "id": "81d028c8",
   "metadata": {},
   "source": [
    "## 📌 11. Working with Real Datasets <a id='10'></a>"
   ]
  },
  {
   "cell_type": "code",
   "execution_count": 29,
   "id": "7ef89a78",
   "metadata": {},
   "outputs": [],
   "source": [
    "import pandas as pd\n",
    "\n",
    "# Load CSV\n",
    "# df = pd.read_csv('data.csv')\n",
    "# print(df.head())"
   ]
  }
 ],
 "metadata": {
  "kernelspec": {
   "display_name": "Python 3 (ipykernel)",
   "language": "python",
   "name": "python3"
  },
  "language_info": {
   "codemirror_mode": {
    "name": "ipython",
    "version": 3
   },
   "file_extension": ".py",
   "mimetype": "text/x-python",
   "name": "python",
   "nbconvert_exporter": "python",
   "pygments_lexer": "ipython3",
   "version": "3.11.4"
  }
 },
 "nbformat": 4,
 "nbformat_minor": 5
}
